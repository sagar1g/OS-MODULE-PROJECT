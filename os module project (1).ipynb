{
 "cells": [
  {
   "cell_type": "code",
   "execution_count": 2,
   "id": "99304a1a",
   "metadata": {},
   "outputs": [
    {
     "name": "stdout",
     "output_type": "stream",
     "text": [
      "you working on this path:-  C:\\Users\\DELL\\gaurav\n",
      "\n",
      "1.Create a dir or create subdir\n",
      "2.Remove a dir\n",
      "3.Remove folder\n",
      "4.List dir\n",
      "5.Exist the loop\n",
      "Dictory:- 5\n",
      "end.....!!!!!!!!!\n"
     ]
    }
   ],
   "source": [
    "import os\n",
    "from os import makedirs,rmdir,remove,listdir\n",
    "print('you working on this path:- ',os.getcwd())\n",
    "while True:\n",
    "    choice=int(input('\\n1.Create a dir or create subdir\\n2.Remove a dir\\n3.Remove folder\\n4.List dir\\n5.Exist the loop\\nDictory:- '))\n",
    "    if choice==1:\n",
    "        while True:\n",
    "            try:\n",
    "                folder=input('create the dir or create subdir :- ')\n",
    "                makedirs(folder)\n",
    "                print('you sucessfully create the folder...!!!!')\n",
    "                break\n",
    "            except:\n",
    "                print('diractory already prsent. please enter new diractory')\n",
    "    elif choice==2:\n",
    "        while True:\n",
    "            dira=input('enter dir you want to remove:- ')\n",
    "            if os.path.isdir(dira):\n",
    "                rmdir(dira)\n",
    "                print(f'this {dira} is remove....!!!!!!')\n",
    "                break\n",
    "            else:\n",
    "                print(f'this dirctory  is not persent')\n",
    "    elif choice==3:\n",
    "        while True:\n",
    "            try:\n",
    "                remove=input('enter your folder name:- ')\n",
    "                os.remove(remove)\n",
    "                print('you remove this folder....!!!!')\n",
    "                break\n",
    "            except:\n",
    "                print('you enter wronge folder name')\n",
    "    elif choice==4:\n",
    "        while True:\n",
    "            choice=int(input('\\n1.you want this current path\\n2.you want different path of list\\nlistdir:-  '))\n",
    "            if choice==1:\n",
    "                list_=os.listdir()\n",
    "                x=[]\n",
    "                for i in list_:\n",
    "                    x.append(i)\n",
    "                print(f'listdir:- {x}')\n",
    "                break\n",
    "            elif choice==2:\n",
    "                while True:\n",
    "                    try:\n",
    "                        path=input('enter your path :- ')\n",
    "                        list_=os.listdir(path)\n",
    "                        x=[]\n",
    "                        for i in list_:\n",
    "                            x.append(i)\n",
    "                        print(f'listdir:- {x}')\n",
    "                        break\n",
    "                    except:\n",
    "                        print('t=This path is not present or your giving wrong path please enter right path')\n",
    "                break\n",
    "        \n",
    "    elif choice==5:\n",
    "        print('end.....!!!!!!!!!')\n",
    "        break\n"
   ]
  }
 ],
 "metadata": {
  "kernelspec": {
   "display_name": "Python 3 (ipykernel)",
   "language": "python",
   "name": "python3"
  },
  "language_info": {
   "codemirror_mode": {
    "name": "ipython",
    "version": 3
   },
   "file_extension": ".py",
   "mimetype": "text/x-python",
   "name": "python",
   "nbconvert_exporter": "python",
   "pygments_lexer": "ipython3",
   "version": "3.9.7"
  }
 },
 "nbformat": 4,
 "nbformat_minor": 5
}
